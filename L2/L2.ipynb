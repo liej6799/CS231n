{
 "metadata": {
  "language_info": {
   "codemirror_mode": {
    "name": "ipython",
    "version": 3
   },
   "file_extension": ".py",
   "mimetype": "text/x-python",
   "name": "python",
   "nbconvert_exporter": "python",
   "pygments_lexer": "ipython3",
   "version": 3
  },
  "orig_nbformat": 2,
  "kernelspec": {
   "name": "python_defaultSpec_1596207659665",
   "display_name": "Python 3.8.3 64-bit"
  }
 },
 "nbformat": 4,
 "nbformat_minor": 2,
 "cells": [
  {
   "cell_type": "code",
   "execution_count": 11,
   "metadata": {
    "tags": []
   },
   "outputs": [],
   "source": [
    "# Import Library\n",
    "import numpy as np\n",
    "import matplotlib.pyplot as plt\n",
    "import numpy as np\n",
    "import method\n",
    "from cs231n.data_utils import load_CIFAR10\n",
    "\n",
    "cifar10Loc = 'D:\\Datasets\\Cifar 10\\cifar-10-batches-py'\n",
    "\n",
    "NearestNeighbor = method.NearestNeighbor()"
   ]
  },
  {
   "cell_type": "code",
   "execution_count": 17,
   "metadata": {},
   "outputs": [],
   "source": [
    "# Load Cifar 10 Dataset \n",
    "Xtrain, Ytrain, Xtest, Ytest = load_CIFAR10(cifar10Loc)\n",
    "Xtrain_rows = Xtrain.reshape(Xtrain.shape[0], 32 * 32 * 3)\n",
    "Xtest_rows = Xtest.reshape(Xtest.shape[0], 32 * 32 * 3)"
   ]
  },
  {
   "cell_type": "code",
   "execution_count": 29,
   "metadata": {
    "tags": []
   },
   "outputs": [
    {
     "output_type": "stream",
     "name": "stdout",
     "text": "Start Train\nTrain Success\n"
    }
   ],
   "source": [
    "# Train NN\n",
    "print('Start Train')\n",
    "\n",
    "NearestNeighbor.train(Xtrain_rows, Ytrain)\n",
    "print('Train Success')"
   ]
  },
  {
   "cell_type": "code",
   "execution_count": 32,
   "metadata": {
    "tags": []
   },
   "outputs": [
    {
     "output_type": "stream",
     "name": "stdout",
     "text": "100\n0\n1\n2\n3\n4\n5\n6\n7\n8\n9\n10\n11\n12\n13\n14\n15\n16\n17\n18\n19\n20\n21\n22\n23\n24\n25\n26\n27\n28\n29\n30\n31\n32\n33\n34\n35\n36\n37\n38\n39\n40\n41\n42\n43\n44\n45\n46\n47\n48\n49\n50\n51\n52\n53\n54\n55\n56\n57\n58\n59\n60\n61\n62\n63\n64\n65\n66\n67\n68\n69\n70\n71\n72\n73\n74\n75\n76\n77\n78\n79\n80\n81\n82\n83\n84\n85\n86\n87\n88\n89\n90\n91\n92\n93\n94\n95\n96\n97\n98\n99\npredict success\naccuracy: 0.340000\n"
    }
   ],
   "source": [
    "# Start Predicting\n",
    "Yval_predict = NearestNeighbor.predict(Xtest_rows[:100])\n",
    "\n",
    "print('predict success')\n",
    "print('accuracy: %f' % (np.mean(Yval_predict == Ytest[:100])))"
   ]
  },
  {
   "cell_type": "code",
   "execution_count": null,
   "metadata": {},
   "outputs": [],
   "source": []
  }
 ]
}